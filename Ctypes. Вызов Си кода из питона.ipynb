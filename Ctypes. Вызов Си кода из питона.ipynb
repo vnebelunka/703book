{
 "cells": [
  {
   "cell_type": "markdown",
   "id": "ea1deb53",
   "metadata": {},
   "source": [
    "# Вызов Си кода из питона\n",
    "Основной инструмент для вызова кода, написанного на Си (или на С++, но с некоторыми ограничениями) - библиотека ctypes: https://docs.python.org/3/library/ctypes.html"
   ]
  },
  {
   "cell_type": "code",
   "execution_count": 1,
   "id": "61bfa439",
   "metadata": {},
   "outputs": [],
   "source": [
    "import ctypes"
   ]
  },
  {
   "cell_type": "markdown",
   "id": "2401f1bb",
   "metadata": {},
   "source": [
    "## Загрузка динамической библиотеки\n",
    "Для того, чтобы вызвать плюсовый код необходимо, чтобы он был обёрнут динамической библиотекой:\n",
    "Пусть в square.cpp написана функция\n",
    "```\n",
    "int square(int a){\n",
    "\treturn a * a;\n",
    "}\n",
    "```\n",
    "И скомпилированна в динамическую библиотеку **libsquare.so**.\n",
    "Функции, имеющиеся в динамической библиотеке можно посмотреть с помощью команды nm:\n",
    "```\n",
    "$ nm -D ./libsquare.so \n",
    "                 w __cxa_finalize@GLIBC_2.2.5\n",
    "                 w __gmon_start__\n",
    "                 w _ITM_deregisterTMCloneTable\n",
    "                 w _ITM_registerTMCloneTable\n",
    "00000000000010e9 T square\n",
    "```"
   ]
  },
  {
   "cell_type": "code",
   "execution_count": 2,
   "id": "7d4125fb",
   "metadata": {},
   "outputs": [],
   "source": [
    "so_filename = './libsquare.so'"
   ]
  },
  {
   "cell_type": "code",
   "execution_count": 3,
   "id": "33f12ef0",
   "metadata": {},
   "outputs": [],
   "source": [
    "so_lib = ctypes.CDLL(so_filename)"
   ]
  },
  {
   "cell_type": "markdown",
   "id": "24c8d5bf",
   "metadata": {},
   "source": [
    "После загрузки самой библиотеки, нужно выбрать функцию, которую вы планируете вызывать, а также указать её список аргументов *argtypes* и возвращаемое значение *restype*. Для этого необходимо использовать типы самого ctypes, в частности - c_int"
   ]
  },
  {
   "cell_type": "code",
   "execution_count": 4,
   "id": "6420d44a",
   "metadata": {},
   "outputs": [],
   "source": [
    "c_square = so_lib.square\n",
    "c_square.argtypes = [ctypes.c_int]\n",
    "c_square.restype = ctypes.c_int"
   ]
  },
  {
   "cell_type": "code",
   "execution_count": 5,
   "id": "9effe985",
   "metadata": {
    "scrolled": false
   },
   "outputs": [
    {
     "data": {
      "text/plain": [
       "100"
      ]
     },
     "execution_count": 5,
     "metadata": {},
     "output_type": "execute_result"
    }
   ],
   "source": [
    "c_square(10)"
   ]
  },
  {
   "cell_type": "markdown",
   "id": "3201da31",
   "metadata": {},
   "source": [
    "Ниже представлены основные типы данных в ctypes:\n",
    "| **ctypes type** |               **C type**               |      **Python type**     |\n",
    "|:---------------:|:--------------------------------------:|:------------------------:|\n",
    "| c_bool          | _Bool                                  | bool (1)                 |\n",
    "| c_char          | char                                   | 1-character bytes object |\n",
    "| c_wchar         | wchar_t                                | 1-character string       |\n",
    "| c_byte          | char                                   | int                      |\n",
    "| c_ubyte         | unsigned char                          | int                      |\n",
    "| c_short         | short                                  | int                      |\n",
    "| c_ushort        | unsigned short                         | int                      |\n",
    "| c_int           | int                                    | int                      |\n",
    "| c_uint          | unsigned int                           | int                      |\n",
    "| c_long          | long                                   | int                      |\n",
    "| c_ulong         | unsigned long                          | int                      |\n",
    "| c_longlong      | __int64 or long long                   | int                      |\n",
    "| c_ulonglong     | unsigned __int64 or unsigned long long | int                      |\n",
    "| c_size_t        | size_t                                 | int                      |\n",
    "| c_ssize_t       | ssize_t or Py_ssize_t                  | int                      |\n",
    "| c_float         | float                                  | float                    |\n",
    "| c_double        | double                                 | float                    |\n",
    "| c_longdouble    | long double                            | float                    |\n",
    "| c_char_p        | char* (NUL terminated)                 | bytes object or None     |\n",
    "| c_wchar_p       | wchar_t* (NUL terminated)              | string or None           |\n",
    "| c_void_p        | void*                                  | int or None              |"
   ]
  },
  {
   "cell_type": "markdown",
   "id": "2a8ac164",
   "metadata": {},
   "source": [
    "## Адреса как аргументы\n",
    "Если функция получает на вход указатель, то в сtypes есть два способа использовать её:\n",
    "*pointer()* и *byref()*. Первый создаёт обьект класса указатель, а второй создаёт ссылку (соответсвенно, второй работает быстрее)"
   ]
  },
  {
   "cell_type": "code",
   "execution_count": 6,
   "id": "ec901ae3",
   "metadata": {},
   "outputs": [],
   "source": [
    "libc = ctypes.cdll.LoadLibrary(\"libc.so.6\")"
   ]
  },
  {
   "cell_type": "code",
   "execution_count": 7,
   "id": "ba189070",
   "metadata": {},
   "outputs": [
    {
     "name": "stdout",
     "output_type": "stream",
     "text": [
      "0 0.0 b''\n"
     ]
    }
   ],
   "source": [
    "i = ctypes.c_int()\n",
    "f = ctypes.c_float()\n",
    "s = ctypes.create_string_buffer(b'\\000' * 32)\n",
    "print(i.value, f.value, repr(s.value))"
   ]
  },
  {
   "cell_type": "code",
   "execution_count": 8,
   "id": "1a26a27d",
   "metadata": {},
   "outputs": [
    {
     "data": {
      "text/plain": [
       "3"
      ]
     },
     "execution_count": 8,
     "metadata": {},
     "output_type": "execute_result"
    }
   ],
   "source": [
    "libc.sscanf(b\"1 3.14 Hello\", b\"%d %f %s\", ctypes.byref(i), ctypes.byref(f), s)"
   ]
  },
  {
   "cell_type": "code",
   "execution_count": 9,
   "id": "f44132bf",
   "metadata": {},
   "outputs": [
    {
     "name": "stdout",
     "output_type": "stream",
     "text": [
      "1 3.140000104904175 b'Hello'\n"
     ]
    }
   ],
   "source": [
    "print(i.value, f.value, repr(s.value))"
   ]
  },
  {
   "cell_type": "markdown",
   "id": "936b7542",
   "metadata": {},
   "source": [
    "## Структуры\n",
    "Если сишная функция использует какую-то структуру, то в коде питона её нужно продублировать с аргументом structure:"
   ]
  },
  {
   "cell_type": "code",
   "execution_count": 10,
   "id": "0a723bd5",
   "metadata": {},
   "outputs": [],
   "source": [
    "class POINT(ctypes.Structure):\n",
    "    _fields_ = [(\"x\", ctypes.c_double),\n",
    "                (\"y\", ctypes.c_double),\n",
    "                (\"z\", ctypes.c_double)]"
   ]
  },
  {
   "cell_type": "markdown",
   "id": "f13af85e",
   "metadata": {},
   "source": [
    "имея в библиотеке функцию\n",
    "```\n",
    "double norm(const point p){\n",
    "\treturn sqrt(p.x * p.x + p.y * p.y + p.z * p.z);\n",
    "}\n",
    "```"
   ]
  },
  {
   "cell_type": "code",
   "execution_count": 11,
   "id": "399581bf",
   "metadata": {},
   "outputs": [
    {
     "data": {
      "text/plain": [
       "(1.0, 2.0, 3.0)"
      ]
     },
     "execution_count": 11,
     "metadata": {},
     "output_type": "execute_result"
    }
   ],
   "source": [
    "p = POINT(1, 2, 3)\n",
    "p.x, p.y, p.z"
   ]
  },
  {
   "cell_type": "code",
   "execution_count": 12,
   "id": "207feca9",
   "metadata": {},
   "outputs": [
    {
     "data": {
      "text/plain": [
       "3.7416573867739413"
      ]
     },
     "execution_count": 12,
     "metadata": {},
     "output_type": "execute_result"
    }
   ],
   "source": [
    "norm = so_lib.norm\n",
    "norm.argtypes = [POINT]\n",
    "norm.restype = ctypes.c_double\n",
    "norm(p)"
   ]
  },
  {
   "cell_type": "markdown",
   "id": "2662f7cc",
   "metadata": {},
   "source": [
    "## Callback-функции\n",
    "Иногда для работы кода необходимо иметь callback функцию, например, при использовании Си-шного qsort. Для этого можно воспользоваться CFUNCTYPE, первым который является оберткой над питоновской функцией, а получает первым аргументов возвращаемое значение и параметры - остальными."
   ]
  },
  {
   "cell_type": "code",
   "execution_count": 13,
   "id": "df775e10",
   "metadata": {},
   "outputs": [],
   "source": [
    "IntArray5 = ctypes.c_int * 5\n",
    "ia = IntArray5(5, 1, 7, 33, 99)\n",
    "\n",
    "qsort = libc.qsort\n",
    "qsort.restype = None"
   ]
  },
  {
   "cell_type": "code",
   "execution_count": 14,
   "id": "2c799998",
   "metadata": {},
   "outputs": [],
   "source": [
    "# Функция-фабрика для создания callback-функций для сортировки.\n",
    "CMPFUNC = ctypes.CFUNCTYPE(ctypes.c_int, \n",
    "                           ctypes.POINTER(ctypes.c_int), \n",
    "                           ctypes.POINTER(ctypes.c_int))"
   ]
  },
  {
   "cell_type": "code",
   "execution_count": 15,
   "id": "f44e24a3",
   "metadata": {},
   "outputs": [],
   "source": [
    "def py_cmp_func(a, b):\n",
    "    print(\"py_cmp_func\", a[0], b[0])\n",
    "    return 0\n",
    "cmp_func = CMPFUNC(py_cmp_func)"
   ]
  },
  {
   "cell_type": "code",
   "execution_count": 16,
   "id": "00423e0c",
   "metadata": {},
   "outputs": [
    {
     "name": "stdout",
     "output_type": "stream",
     "text": [
      "py_cmp_func 5 1\n",
      "py_cmp_func 33 99\n",
      "py_cmp_func 7 33\n",
      "py_cmp_func 5 7\n",
      "py_cmp_func 1 7\n"
     ]
    }
   ],
   "source": [
    "qsort(ia, len(ia), ctypes.sizeof(ctypes.c_int), cmp_func) "
   ]
  },
  {
   "cell_type": "markdown",
   "id": "083050a5",
   "metadata": {},
   "source": [
    "## ctypes и C++\n",
    "Т.к в C++ имеется перезрузка функций, то построения их имен в единице трасляции становится менеее очевидными. Например функция *square*, приведенная выше, но написанная собранная как с++ программа, будет иметь вид:\n",
    "```\n",
    "00000000000011ca T _Z6squarei\n",
    "```\n",
    "Однако, если типы аргументов и возвращаемого значения Сишные, то вы все ещё можете вызвать её.\n",
    "Также, вы можете погрузить функцию в окружение extern \"C\", которое указывает компилятору, что код, по возможности, надо собрать с помощью Си компилятора. Так например, можно обработать функции, имеющие ссылки в качестве аргумента (которые перейдут в указатели).\n",
    "```\n",
    "extern \"C\"{\n",
    "    int square(int a){\n",
    "        return a * a;\n",
    "    }\n",
    "}\n",
    "```\n"
   ]
  },
  {
   "cell_type": "markdown",
   "id": "1fab3669",
   "metadata": {},
   "source": [
    "# ctypes и numpy"
   ]
  },
  {
   "cell_type": "code",
   "execution_count": 17,
   "id": "d29ed5c8",
   "metadata": {},
   "outputs": [],
   "source": [
    "import numpy as np"
   ]
  },
  {
   "cell_type": "markdown",
   "id": "1b4f0a48",
   "metadata": {},
   "source": [
    "numpy умеет взаимодействовать с ctypes, в частности, создавать массивы с типом ctypes:"
   ]
  },
  {
   "cell_type": "code",
   "execution_count": 18,
   "id": "0c6a7484",
   "metadata": {},
   "outputs": [
    {
     "data": {
      "text/plain": [
       "array([0., 0., 0., 0., 0.])"
      ]
     },
     "execution_count": 18,
     "metadata": {},
     "output_type": "execute_result"
    }
   ],
   "source": [
    "np.zeros(5, dtype=ctypes.c_double)"
   ]
  },
  {
   "cell_type": "markdown",
   "id": "362f0f11",
   "metadata": {},
   "source": [
    "Также, к массивам numpy можно применять Сишные функции, имеющие в качестве аргумента указатель на массив. Делается это с помощью **data_as**"
   ]
  },
  {
   "cell_type": "code",
   "execution_count": 19,
   "id": "4ff09dc9",
   "metadata": {},
   "outputs": [],
   "source": [
    "c_square_array = so_lib.square_array\n",
    "c_square_array.argtypes = [ctypes.POINTER(ctypes.c_double), ctypes.c_int]\n",
    "c_square_array.restype = None"
   ]
  },
  {
   "cell_type": "code",
   "execution_count": 20,
   "id": "f768ce57",
   "metadata": {},
   "outputs": [
    {
     "data": {
      "text/plain": [
       "array([ 0.,  1.,  2.,  3.,  4.,  5.,  6.,  7.,  8.,  9., 10., 11.])"
      ]
     },
     "execution_count": 20,
     "metadata": {},
     "output_type": "execute_result"
    }
   ],
   "source": [
    "a = np.arange(12).astype(np.float64)\n",
    "a_ptr = a.ctypes.data_as(ctypes.POINTER(ctypes.c_double))\n",
    "a"
   ]
  },
  {
   "cell_type": "code",
   "execution_count": 21,
   "id": "30f8ce7a",
   "metadata": {},
   "outputs": [],
   "source": [
    "c_square_array(a_ptr, a.shape[0])"
   ]
  },
  {
   "cell_type": "code",
   "execution_count": 22,
   "id": "1054c349",
   "metadata": {},
   "outputs": [
    {
     "data": {
      "text/plain": [
       "array([  0.,   1.,   4.,   9.,  16.,  25.,  36.,  49.,  64.,  81., 100.,\n",
       "       121.])"
      ]
     },
     "execution_count": 22,
     "metadata": {},
     "output_type": "execute_result"
    }
   ],
   "source": [
    "a"
   ]
  },
  {
   "cell_type": "markdown",
   "id": "77363cee",
   "metadata": {},
   "source": [
    "callback-функции создаются аналогично"
   ]
  },
  {
   "cell_type": "code",
   "execution_count": 23,
   "id": "20a1120a",
   "metadata": {},
   "outputs": [],
   "source": [
    "c_square_array_ctypes = ctypes.CFUNCTYPE(None, ctypes.POINTER(ctypes.c_double), \n",
    "                                         ctypes.c_int)(c_square_array)"
   ]
  },
  {
   "cell_type": "code",
   "execution_count": 24,
   "id": "33f2fb56",
   "metadata": {},
   "outputs": [
    {
     "data": {
      "text/plain": [
       "array([  0.,   1.,   4.,   9.,  16.,  25.,  36.,  49.,  64.,  81., 100.,\n",
       "       121.])"
      ]
     },
     "execution_count": 24,
     "metadata": {},
     "output_type": "execute_result"
    }
   ],
   "source": [
    "a = np.arange(12).astype(np.float64)\n",
    "a_ptr = a.ctypes.data_as(ctypes.POINTER(ctypes.c_double))\n",
    "\n",
    "c_square_array_ctypes = ctypes.CFUNCTYPE(None, ctypes.POINTER(ctypes.c_double), ctypes.c_int)(c_square_array)\n",
    "\n",
    "c_square_array_ctypes(a_ptr, a.shape[0])\n",
    "a"
   ]
  },
  {
   "cell_type": "markdown",
   "id": "fcb7e19f",
   "metadata": {},
   "source": [
    "# ctypes и numba"
   ]
  },
  {
   "cell_type": "code",
   "execution_count": 25,
   "id": "86e62288",
   "metadata": {},
   "outputs": [],
   "source": [
    "import numba"
   ]
  },
  {
   "cell_type": "markdown",
   "id": "5fa1447d",
   "metadata": {},
   "source": [
    "С помощью numba можно векторизовать callback функции из ctypes"
   ]
  },
  {
   "cell_type": "code",
   "execution_count": 26,
   "id": "e179b3d8",
   "metadata": {},
   "outputs": [],
   "source": [
    "c_square_ctypes = ctypes.CFUNCTYPE(ctypes.c_int, ctypes.c_int)(c_square)"
   ]
  },
  {
   "cell_type": "code",
   "execution_count": 27,
   "id": "29085f2f",
   "metadata": {},
   "outputs": [],
   "source": [
    "@numba.vectorize('int32(int32)')\n",
    "def example_func(x):\n",
    "    return c_square_ctypes(x)"
   ]
  },
  {
   "cell_type": "code",
   "execution_count": 28,
   "id": "3bbd7cf4",
   "metadata": {},
   "outputs": [],
   "source": [
    "x = np.arange(9).astype(np.int32)"
   ]
  },
  {
   "cell_type": "code",
   "execution_count": 29,
   "id": "8ab395b8",
   "metadata": {},
   "outputs": [
    {
     "data": {
      "text/plain": [
       "array([ 0,  1,  4,  9, 16, 25, 36, 49, 64], dtype=int32)"
      ]
     },
     "execution_count": 29,
     "metadata": {},
     "output_type": "execute_result"
    }
   ],
   "source": [
    "example_func(x)"
   ]
  },
  {
   "cell_type": "code",
   "execution_count": 30,
   "id": "db7e0a07",
   "metadata": {},
   "outputs": [],
   "source": [
    "@numba.njit\n",
    "def example_array_func(x):\n",
    "    c_square_array_ctypes(x.ctypes, x.shape[0])"
   ]
  },
  {
   "cell_type": "code",
   "execution_count": 31,
   "id": "07874930",
   "metadata": {},
   "outputs": [
    {
     "data": {
      "text/plain": [
       "array([  0.,   1.,   4.,   9.,  16.,  25.,  36.,  49.,  64.,  81., 100.,\n",
       "       121.])"
      ]
     },
     "execution_count": 31,
     "metadata": {},
     "output_type": "execute_result"
    }
   ],
   "source": [
    "a"
   ]
  },
  {
   "cell_type": "code",
   "execution_count": 32,
   "id": "14785a55",
   "metadata": {},
   "outputs": [],
   "source": [
    "example_array_func(a)"
   ]
  },
  {
   "cell_type": "code",
   "execution_count": 33,
   "id": "fd5052f4",
   "metadata": {},
   "outputs": [
    {
     "data": {
      "text/plain": [
       "array([0.0000e+00, 1.0000e+00, 1.6000e+01, 8.1000e+01, 2.5600e+02,\n",
       "       6.2500e+02, 1.2960e+03, 2.4010e+03, 4.0960e+03, 6.5610e+03,\n",
       "       1.0000e+04, 1.4641e+04])"
      ]
     },
     "execution_count": 33,
     "metadata": {},
     "output_type": "execute_result"
    }
   ],
   "source": [
    "a"
   ]
  },
  {
   "cell_type": "markdown",
   "id": "e1a17beb",
   "metadata": {},
   "source": [
    "Однако при работе со слайсами и конвертации их в указатели нужно быть осторожными: длину шага слайса перевести в сишный указатель не получится"
   ]
  },
  {
   "cell_type": "code",
   "execution_count": 46,
   "id": "7844e752",
   "metadata": {},
   "outputs": [
    {
     "data": {
      "text/plain": [
       "array([ 0.,  1.,  2.,  3.,  4.,  5.,  6.,  7.,  8.,  9., 10., 11.])"
      ]
     },
     "execution_count": 46,
     "metadata": {},
     "output_type": "execute_result"
    }
   ],
   "source": [
    "a = np.arange(12).astype(np.float64)\n",
    "a"
   ]
  },
  {
   "cell_type": "code",
   "execution_count": 47,
   "id": "04cb2855",
   "metadata": {},
   "outputs": [
    {
     "data": {
      "text/plain": [
       "array([ 2.,  5.,  8., 11.])"
      ]
     },
     "execution_count": 47,
     "metadata": {},
     "output_type": "execute_result"
    }
   ],
   "source": [
    "b = a[2::3]\n",
    "b"
   ]
  },
  {
   "cell_type": "code",
   "execution_count": 48,
   "id": "e9d18497",
   "metadata": {},
   "outputs": [],
   "source": [
    "# example_array_func(b)\n",
    "b_ptr = b.ctypes.data_as(ctypes.POINTER(ctypes.c_double))\n",
    "c_square_array_ctypes(b_ptr, b.shape[0])"
   ]
  },
  {
   "cell_type": "code",
   "execution_count": 49,
   "id": "320fcc1f",
   "metadata": {},
   "outputs": [
    {
     "data": {
      "text/plain": [
       "array([ 0.,  1.,  4.,  9., 16., 25.,  6.,  7.,  8.,  9., 10., 11.])"
      ]
     },
     "execution_count": 49,
     "metadata": {},
     "output_type": "execute_result"
    }
   ],
   "source": [
    "a # поменялись b.shape[0] значений подряд"
   ]
  },
  {
   "cell_type": "code",
   "execution_count": 51,
   "id": "c1d4a34c",
   "metadata": {},
   "outputs": [
    {
     "data": {
      "text/plain": [
       "array([ 4., 25.,  8., 11.])"
      ]
     },
     "execution_count": 51,
     "metadata": {},
     "output_type": "execute_result"
    }
   ],
   "source": [
    "b # хотя slice b указывает не на подряд идущие значения"
   ]
  }
 ],
 "metadata": {
  "kernelspec": {
   "display_name": "Python 3 (ipykernel)",
   "language": "python",
   "name": "python3"
  },
  "language_info": {
   "codemirror_mode": {
    "name": "ipython",
    "version": 3
   },
   "file_extension": ".py",
   "mimetype": "text/x-python",
   "name": "python",
   "nbconvert_exporter": "python",
   "pygments_lexer": "ipython3",
   "version": "3.11.3"
  },
  "toc": {
   "base_numbering": 1,
   "nav_menu": {},
   "number_sections": true,
   "sideBar": true,
   "skip_h1_title": false,
   "title_cell": "Table of Contents",
   "title_sidebar": "Contents",
   "toc_cell": false,
   "toc_position": {},
   "toc_section_display": true,
   "toc_window_display": false
  }
 },
 "nbformat": 4,
 "nbformat_minor": 5
}
