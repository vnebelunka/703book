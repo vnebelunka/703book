{
 "cells": [
  {
   "cell_type": "markdown",
   "id": "52929fc3",
   "metadata": {},
   "source": [
    "# Numba"
   ]
  },
  {
   "cell_type": "markdown",
   "id": "0fb0f32a",
   "metadata": {},
   "source": [
    "Numba – это компилятор с открытым исходным кодом, использующий подход LLVM (Low Level Virtual Machine). Numba использует компиляцию JIT (Just-in-time) – это означает, что компиляция выполняется во время выполнения кода Python, а не раньше!\n",
    "\n",
    "Как мы увидим далее, лучше всего numba раскрывается при работе с циклами, обрабатывающие массивы данных.\n",
    "\n",
    "Устанавливается numba обычным способом: либо через\n",
    "```\n",
    "pip install numba\n",
    "```\n",
    "либо\n",
    "```\n",
    "conda install numba\n",
    "```\n",
    "\n",
    "Ссылка на документацию: https://numba.readthedocs.io/en/stable/index.html"
   ]
  },
  {
   "cell_type": "markdown",
   "id": "f2c2c4ed",
   "metadata": {},
   "source": [
    "## Модельный пример, когда numpy не помогает\n",
    "Допустим, у нас есть очень большой массив, и нам нужно найти ее монотонно возрастающую версию, такую, что значения только увеличиваются. Пример:\n",
    "```\n",
    "[1, 2, 1, 3, 3, 5, 4, 6] -> [1, 2, 2, 3, 3, 5, 5, 6]\n",
    "```"
   ]
  },
  {
   "cell_type": "code",
   "execution_count": 1,
   "id": "e27b6ebb",
   "metadata": {},
   "outputs": [],
   "source": [
    "import numpy as np"
   ]
  },
  {
   "cell_type": "code",
   "execution_count": 5,
   "id": "93316288",
   "metadata": {},
   "outputs": [],
   "source": [
    "def monotonically_increasing(a):\n",
    "    max_value = 0\n",
    "    for i in range(len(a)):\n",
    "        if a[i] > max_value:\n",
    "            max_value = a[i]\n",
    "        a[i] = max_value"
   ]
  },
  {
   "cell_type": "code",
   "execution_count": 6,
   "id": "e92a00c8",
   "metadata": {},
   "outputs": [
    {
     "data": {
      "text/plain": [
       "array([1, 2, 2, 3, 3, 5, 5, 6])"
      ]
     },
     "execution_count": 6,
     "metadata": {},
     "output_type": "execute_result"
    }
   ],
   "source": [
    "a = np.array([1, 2, 1, 3, 3, 5, 4, 6])\n",
    "monotonically_increasing(a)\n",
    "a"
   ]
  },
  {
   "cell_type": "markdown",
   "id": "22b90c85",
   "metadata": {},
   "source": [
    "Хотя аргументом функции и является numpy array, однако его обработка происходит в обычном питоновском цикле, что плохо сказывается на скорости работы:"
   ]
  },
  {
   "cell_type": "code",
   "execution_count": 12,
   "id": "7ad88e39",
   "metadata": {},
   "outputs": [
    {
     "name": "stdout",
     "output_type": "stream",
     "text": [
      "778 ms ± 78 ms per loop (mean ± std. dev. of 7 runs, 1 loop each)\n"
     ]
    }
   ],
   "source": [
    "%%timeit\n",
    "N = 10_000_000\n",
    "a = np.random.randint(0, N, size=N)\n",
    "monotonically_increasing(a)"
   ]
  },
  {
   "cell_type": "markdown",
   "id": "a5dc244b",
   "metadata": {},
   "source": [
    "Основной способ использовать numba - обернуть имеющуюся функцию в декоратор:\n",
    "jit или njit"
   ]
  },
  {
   "cell_type": "code",
   "execution_count": 5,
   "id": "6863623b",
   "metadata": {},
   "outputs": [],
   "source": [
    "from numba import njit"
   ]
  },
  {
   "cell_type": "code",
   "execution_count": 15,
   "id": "002fc833",
   "metadata": {},
   "outputs": [],
   "source": [
    "@njit\n",
    "def monotonically_increasing(a):\n",
    "    max_value = 0\n",
    "    for i in range(len(a)):\n",
    "        if a[i] > max_value:\n",
    "            max_value = a[i]\n",
    "        a[i] = max_value"
   ]
  },
  {
   "cell_type": "code",
   "execution_count": 16,
   "id": "7f7e2719",
   "metadata": {},
   "outputs": [
    {
     "data": {
      "text/plain": [
       "array([1, 2, 2, 3, 3, 5, 5, 6])"
      ]
     },
     "execution_count": 16,
     "metadata": {},
     "output_type": "execute_result"
    }
   ],
   "source": [
    "a = np.array([1, 2, 1, 3, 3, 5, 4, 6])\n",
    "monotonically_increasing(a)\n",
    "a"
   ]
  },
  {
   "cell_type": "code",
   "execution_count": 17,
   "id": "afa6d4bf",
   "metadata": {},
   "outputs": [
    {
     "name": "stdout",
     "output_type": "stream",
     "text": [
      "83 ms ± 129 µs per loop (mean ± std. dev. of 7 runs, 10 loops each)\n"
     ]
    }
   ],
   "source": [
    "%%timeit\n",
    "N = 10_000_000\n",
    "a = np.random.randint(0, N, size=N)\n",
    "monotonically_increasing(a)"
   ]
  },
  {
   "cell_type": "markdown",
   "id": "c1515a33",
   "metadata": {},
   "source": [
    "В первый раз, когда вызывается функция, декорированная njit, нужно сгенерировать необходимый машинный код. Это занимает некоторое время. "
   ]
  },
  {
   "cell_type": "code",
   "execution_count": 21,
   "id": "9a8ec243",
   "metadata": {},
   "outputs": [],
   "source": [
    "@njit\n",
    "def add(a, b): \n",
    "    return a + b"
   ]
  },
  {
   "cell_type": "code",
   "execution_count": 22,
   "id": "98c805d5",
   "metadata": {},
   "outputs": [
    {
     "name": "stdout",
     "output_type": "stream",
     "text": [
      "CPU times: user 12.8 ms, sys: 3.08 ms, total: 15.9 ms\n",
      "Wall time: 15.4 ms\n",
      "CPU times: user 2 µs, sys: 0 ns, total: 2 µs\n",
      "Wall time: 3.81 µs\n"
     ]
    },
    {
     "data": {
      "text/plain": [
       "3"
      ]
     },
     "execution_count": 22,
     "metadata": {},
     "output_type": "execute_result"
    }
   ],
   "source": [
    "%time add(1, 2)\n",
    "%time add(1, 2)"
   ]
  },
  {
   "cell_type": "markdown",
   "id": "1b4bcab5",
   "metadata": {},
   "source": [
    "при этом разные типы аргументов требуют генерации различных функций"
   ]
  },
  {
   "cell_type": "code",
   "execution_count": 23,
   "id": "c68264c4",
   "metadata": {},
   "outputs": [
    {
     "name": "stdout",
     "output_type": "stream",
     "text": [
      "CPU times: user 27.7 ms, sys: 0 ns, total: 27.7 ms\n",
      "Wall time: 27.7 ms\n",
      "CPU times: user 4 µs, sys: 0 ns, total: 4 µs\n",
      "Wall time: 5.72 µs\n"
     ]
    },
    {
     "data": {
      "text/plain": [
       "4.0"
      ]
     },
     "execution_count": 23,
     "metadata": {},
     "output_type": "execute_result"
    }
   ],
   "source": [
    "%time add(1.5, 2.5)\n",
    "%time add(1.5, 2.5)"
   ]
  },
  {
   "cell_type": "markdown",
   "id": "071cd36c",
   "metadata": {},
   "source": [
    "При необходимости можно задать в декораторе аргументы функции. Тогда функция скомпилируется сразу. Это может быть полезно, например, при контролле точности чисел с плавующей точкой"
   ]
  },
  {
   "cell_type": "code",
   "execution_count": 6,
   "id": "4dfe0279",
   "metadata": {},
   "outputs": [],
   "source": [
    "from numba import jit, int32\n",
    "\n",
    "@njit(int32(int32, int32))\n",
    "def f(x, y):\n",
    "    return x + y"
   ]
  },
  {
   "cell_type": "code",
   "execution_count": 44,
   "id": "7ca28360",
   "metadata": {},
   "outputs": [
    {
     "name": "stdout",
     "output_type": "stream",
     "text": [
      "CPU times: user 6 µs, sys: 0 ns, total: 6 µs\n",
      "Wall time: 8.58 µs\n"
     ]
    },
    {
     "data": {
      "text/plain": [
       "2"
      ]
     },
     "execution_count": 44,
     "metadata": {},
     "output_type": "execute_result"
    }
   ],
   "source": [
    "%time f(1, 1)"
   ]
  },
  {
   "cell_type": "markdown",
   "id": "935e8814",
   "metadata": {},
   "source": [
    "# nopython\n",
    "Numba может собирать код в двух режимах: *nopython mode* и *object mode*. При это вначале пытается быть реализована сборка в режиме nopython, а при неуспехе - в обьектном режиме. В случае обьектного режима, numba находит в коде части (в частности - циклы), которые можно реализовать в nopython моде, и выносит их в отдельные функции. \n",
    "При использовании @njit или @jit(nopython=True) переход в обьектный режим запрещается."
   ]
  },
  {
   "cell_type": "code",
   "execution_count": 47,
   "id": "926e571e",
   "metadata": {},
   "outputs": [
    {
     "name": "stdout",
     "output_type": "stream",
     "text": [
      "      a      b\n",
      "a   1.0   10.0\n",
      "b  10.0  100.0\n"
     ]
    },
    {
     "name": "stderr",
     "output_type": "stream",
     "text": [
      "/tmp/ipykernel_14899/2792547010.py:6: NumbaDeprecationWarning: The 'nopython' keyword argument was not supplied to the 'numba.jit' decorator. The implicit default value for this argument is currently False, but it will be changed to True in Numba 0.59.0. See https://numba.readthedocs.io/en/stable/reference/deprecation.html#deprecation-of-object-mode-fall-back-behaviour-when-using-jit for details.\n",
      "  @jit\n",
      "/tmp/ipykernel_14899/2792547010.py:6: NumbaWarning: \n",
      "Compilation is falling back to object mode WITH looplifting enabled because Function \"use_pandas\" failed type inference due to: non-precise type pyobject\n",
      "During: typing of argument at /tmp/ipykernel_14899/2792547010.py (6)\n",
      "\n",
      "File \"../../../../../tmp/ipykernel_14899/2792547010.py\", line 6:\n",
      "<source missing, REPL/exec in use?>\n",
      "\n",
      "  @jit\n",
      "/home/nebil/.local/lib/python3.11/site-packages/numba/core/object_mode_passes.py:151: NumbaWarning: Function \"use_pandas\" was compiled in object mode without forceobj=True.\n",
      "\n",
      "File \"../../../../../tmp/ipykernel_14899/2792547010.py\", line 6:\n",
      "<source missing, REPL/exec in use?>\n",
      "\n",
      "  warnings.warn(errors.NumbaWarning(warn_msg,\n",
      "/home/nebil/.local/lib/python3.11/site-packages/numba/core/object_mode_passes.py:161: NumbaDeprecationWarning: \n",
      "Fall-back from the nopython compilation path to the object mode compilation path has been detected. This is deprecated behaviour that will be removed in Numba 0.59.0.\n",
      "\n",
      "For more information visit https://numba.readthedocs.io/en/stable/reference/deprecation.html#deprecation-of-object-mode-fall-back-behaviour-when-using-jit\n",
      "\n",
      "File \"../../../../../tmp/ipykernel_14899/2792547010.py\", line 6:\n",
      "<source missing, REPL/exec in use?>\n",
      "\n",
      "  warnings.warn(errors.NumbaDeprecationWarning(msg,\n"
     ]
    }
   ],
   "source": [
    "from numba import jit\n",
    "import pandas as pd\n",
    "\n",
    "x = {'a': [1, 2, 3], 'b': [20, 30, 40]}\n",
    "\n",
    "@jit\n",
    "def use_pandas(a): # Function will not benefit from Numba jit\n",
    "    df = pd.DataFrame.from_dict(a) # Numba doesn't know about pd.DataFrame\n",
    "    df += 1                        # Numba doesn't understand what this is\n",
    "    return df.cov()                # or this!\n",
    "\n",
    "print(use_pandas(x))"
   ]
  },
  {
   "cell_type": "markdown",
   "id": "caad60f6",
   "metadata": {},
   "source": [
    "Любая строчка в коде выше не может быть интерпретирована numba, поэтому в итоге будет вызываться обычной питоновский код (с учётами на доп затратами на попытка скомпилировать его)"
   ]
  },
  {
   "cell_type": "markdown",
   "id": "ba498064",
   "metadata": {},
   "source": [
    "# numba и numpy\n",
    "Почти все функции из numpy поддерживаются внутри numba. При это реализации из numpy скорее всего будут работать лучше, чем ваши реализации с помощью numba:"
   ]
  },
  {
   "cell_type": "code",
   "execution_count": 48,
   "id": "cbfc6260",
   "metadata": {},
   "outputs": [],
   "source": [
    "@jit(nopython=True)\n",
    "def matmul(A, B):\n",
    "    C = np.zeros((A.shape[0], B.shape[1]))\n",
    "    \n",
    "    for i in range(A.shape[0]):\n",
    "        for j in range(B.shape[1]):\n",
    "            for k in range(A.shape[1]):\n",
    "                C[i, j] += A[i, k] * B[k, j]\n",
    "                \n",
    "    return C"
   ]
  },
  {
   "cell_type": "code",
   "execution_count": 52,
   "id": "016dbe36",
   "metadata": {},
   "outputs": [
    {
     "data": {
      "text/plain": [
       "3.441256531276139e-13"
      ]
     },
     "execution_count": 52,
     "metadata": {},
     "output_type": "execute_result"
    }
   ],
   "source": [
    "A = np.random.randn(128, 128)\n",
    "B = np.random.randn(128, 128)\n",
    "\n",
    "np.linalg.norm(A @ B - matmul(A, B))"
   ]
  },
  {
   "cell_type": "code",
   "execution_count": 53,
   "id": "702bbc78",
   "metadata": {},
   "outputs": [
    {
     "name": "stdout",
     "output_type": "stream",
     "text": [
      "1.34 ms ± 11.2 µs per loop (mean ± std. dev. of 7 runs, 1,000 loops each)\n"
     ]
    }
   ],
   "source": [
    "%%timeit\n",
    "C = matmul(A, B)"
   ]
  },
  {
   "cell_type": "code",
   "execution_count": 54,
   "id": "6ead9472",
   "metadata": {},
   "outputs": [
    {
     "name": "stdout",
     "output_type": "stream",
     "text": [
      "21.1 µs ± 791 ns per loop (mean ± std. dev. of 7 runs, 100,000 loops each)\n"
     ]
    }
   ],
   "source": [
    "%%timeit\n",
    "C = A @ B"
   ]
  },
  {
   "cell_type": "markdown",
   "id": "329a7189",
   "metadata": {},
   "source": [
    "Также навешивание @jit на чисто numpy функции лишь замедлит их:"
   ]
  },
  {
   "cell_type": "code",
   "execution_count": 59,
   "id": "a802c7cb",
   "metadata": {},
   "outputs": [],
   "source": [
    "def just_sum(A):\n",
    "    return np.sum(A, axis=1)\n",
    "\n",
    "@jit('float64[:](float64[:, :])', nopython=True)\n",
    "def numba_just_sum(A):\n",
    "    return np.sum(A, axis=1)"
   ]
  },
  {
   "cell_type": "code",
   "execution_count": 60,
   "id": "4b77a135",
   "metadata": {},
   "outputs": [],
   "source": [
    "A = np.random.randn(2048, 2048)"
   ]
  },
  {
   "cell_type": "code",
   "execution_count": 61,
   "id": "eb3d43e4",
   "metadata": {},
   "outputs": [
    {
     "name": "stdout",
     "output_type": "stream",
     "text": [
      "688 µs ± 8.69 µs per loop (mean ± std. dev. of 7 runs, 1,000 loops each)\n"
     ]
    }
   ],
   "source": [
    "%%timeit\n",
    "just_sum(A)"
   ]
  },
  {
   "cell_type": "code",
   "execution_count": 62,
   "id": "08b36fcb",
   "metadata": {},
   "outputs": [
    {
     "name": "stdout",
     "output_type": "stream",
     "text": [
      "23.8 ms ± 117 µs per loop (mean ± std. dev. of 7 runs, 10 loops each)\n"
     ]
    }
   ],
   "source": [
    "%%timeit\n",
    "numba_just_sum(A)"
   ]
  },
  {
   "cell_type": "markdown",
   "id": "80e12752",
   "metadata": {},
   "source": [
    "Так что если ваши операции можно реализовать используя лишь функции из numpy - доп использование numba скорее всего лишь замедлит вас"
   ]
  },
  {
   "cell_type": "markdown",
   "id": "0973b0ee",
   "metadata": {},
   "source": [
    "# objmode"
   ]
  },
  {
   "cell_type": "markdown",
   "id": "d4b95440",
   "metadata": {},
   "source": [
    "Как говорилось выше, если сборка кода в nopython моде не получается, то numba делает сборку в object режиме. Однако ей в этом плане можно \"помочь\", обернув куски кода, требующие objmode c помощью одноименного окружения. Этот кусок кода будет интерпретироваться как функция с тем возвращаемым значением, что указан в аргументе objmode:\n",
    "```\n",
    "    with objmode(res='restype'):  # annotate return type\n",
    "```"
   ]
  },
  {
   "cell_type": "code",
   "execution_count": 17,
   "id": "24a822da",
   "metadata": {},
   "outputs": [],
   "source": [
    "from scipy.linalg import solve_triangular\n",
    "from numba import objmode"
   ]
  },
  {
   "cell_type": "code",
   "execution_count": 22,
   "id": "9675fa07",
   "metadata": {},
   "outputs": [
    {
     "name": "stderr",
     "output_type": "stream",
     "text": [
      "/tmp/ipykernel_17491/2187657385.py:1: NumbaDeprecationWarning: The 'nopython' keyword argument was not supplied to the 'numba.jit' decorator. The implicit default value for this argument is currently False, but it will be changed to True in Numba 0.59.0. See https://numba.readthedocs.io/en/stable/reference/deprecation.html#deprecation-of-object-mode-fall-back-behaviour-when-using-jit for details.\n",
      "  @jit\n"
     ]
    }
   ],
   "source": [
    "@jit\n",
    "def solve_with_qr(A, b):\n",
    "    Q, R = np.linalg.qr(A)\n",
    "    x = Q.T @ b\n",
    "    \n",
    "    x = solve_triangular(R, x)\n",
    "    \n",
    "    return x"
   ]
  },
  {
   "cell_type": "code",
   "execution_count": 25,
   "id": "10662ebe",
   "metadata": {},
   "outputs": [
    {
     "data": {
      "text/plain": [
       "6.526257239074654e-12"
      ]
     },
     "execution_count": 25,
     "metadata": {},
     "output_type": "execute_result"
    }
   ],
   "source": [
    "A = np.random.randn(2048, 2048)\n",
    "b = np.random.randn(2048)\n",
    "x = solve_with_qr(A, b)\n",
    "np.linalg.norm(A @ x - b)"
   ]
  },
  {
   "cell_type": "code",
   "execution_count": 27,
   "id": "78ca7489",
   "metadata": {},
   "outputs": [
    {
     "name": "stdout",
     "output_type": "stream",
     "text": [
      "417 ms ± 45.8 ms per loop (mean ± std. dev. of 7 runs, 1 loop each)\n"
     ]
    }
   ],
   "source": [
    "%%timeit\n",
    "solve_with_qr(A, b)"
   ]
  },
  {
   "cell_type": "code",
   "execution_count": 28,
   "id": "bee3f7e6",
   "metadata": {},
   "outputs": [],
   "source": [
    "@jit(nopython=True)\n",
    "def solve_with_qr(A, b):\n",
    "    Q, R = np.linalg.qr(A)\n",
    "    x = Q.T @ b\n",
    "    \n",
    "    with objmode(x='float64[:]'):\n",
    "        x = solve_triangular(R, x)\n",
    "    \n",
    "    return x"
   ]
  },
  {
   "cell_type": "code",
   "execution_count": 29,
   "id": "e4fb5007",
   "metadata": {},
   "outputs": [],
   "source": [
    "A = np.random.randn(2048, 2048)\n",
    "b = np.random.randn(2048)"
   ]
  },
  {
   "cell_type": "code",
   "execution_count": 30,
   "id": "a2bbd5ee",
   "metadata": {},
   "outputs": [],
   "source": [
    "x = solve_with_qr(A, b)"
   ]
  },
  {
   "cell_type": "code",
   "execution_count": 31,
   "id": "afea09eb",
   "metadata": {},
   "outputs": [
    {
     "name": "stdout",
     "output_type": "stream",
     "text": [
      "325 ms ± 30.5 ms per loop (mean ± std. dev. of 7 runs, 1 loop each)\n"
     ]
    }
   ],
   "source": [
    "%%timeit\n",
    "solve_with_qr(A, b)"
   ]
  },
  {
   "cell_type": "markdown",
   "id": "debb7129",
   "metadata": {},
   "source": [
    "# fasmath\n",
    "IEEE 754 — широко используемый стандарт IEEE, описывающий формат представления чисел с плавающей точкой. В некоторых задачах от некоторых правил стандарта можно отказаться в пользу ускорение кода. В numba это можно сделать с помощью аргумента декоратора **fastmath=True**"
   ]
  },
  {
   "cell_type": "code",
   "execution_count": 32,
   "id": "b6d7e8fd",
   "metadata": {},
   "outputs": [],
   "source": [
    "@njit(fastmath=False)\n",
    "def do_sum(A):\n",
    "    acc = 0.\n",
    "    # without fastmath, this loop must accumulate in strict order\n",
    "    for x in A:\n",
    "        acc += np.sqrt(x)\n",
    "    return acc\n",
    "\n",
    "@njit(fastmath=True)\n",
    "def do_sum_fast(A):\n",
    "    acc = 0.\n",
    "    # with fastmath, the reduction can be vectorized as floating point\n",
    "    # reassociation is permitted.\n",
    "    for x in A:\n",
    "        acc += np.sqrt(x)\n",
    "    return acc"
   ]
  },
  {
   "cell_type": "code",
   "execution_count": 33,
   "id": "ee1bf7d5",
   "metadata": {},
   "outputs": [
    {
     "name": "stdout",
     "output_type": "stream",
     "text": [
      "6666.4979252009025 6666.497925200883\n"
     ]
    }
   ],
   "source": [
    "A = np.linspace(0, 1, 10000)\n",
    "print(do_sum(A), do_sum_fast(A))"
   ]
  },
  {
   "cell_type": "code",
   "execution_count": 34,
   "id": "4e82b6cd",
   "metadata": {},
   "outputs": [
    {
     "name": "stdout",
     "output_type": "stream",
     "text": [
      "15.4 µs ± 7.87 ns per loop (mean ± std. dev. of 7 runs, 100,000 loops each)\n",
      "3.9 µs ± 7.97 ns per loop (mean ± std. dev. of 7 runs, 100,000 loops each)\n"
     ]
    }
   ],
   "source": [
    "%timeit do_sum(A)\n",
    "%timeit do_sum_fast(A)"
   ]
  },
  {
   "cell_type": "markdown",
   "id": "0eb4dcf8",
   "metadata": {},
   "source": [
    "Над флагами оптимизации можно иметь чуть больше контроля, включая и выключая их отдельно.\n",
    "Список флагом можно найти тут:\n",
    "https://llvm.org/docs/LangRef.html#fast-math-flags"
   ]
  },
  {
   "cell_type": "code",
   "execution_count": 35,
   "id": "7947b40b",
   "metadata": {},
   "outputs": [
    {
     "name": "stdout",
     "output_type": "stream",
     "text": [
      "nan\n",
      "0.0\n",
      "0.0\n",
      "nan\n",
      "nan\n"
     ]
    }
   ],
   "source": [
    "def add_assoc(x, y):\n",
    "    return (x - y) + y\n",
    "\n",
    "print(njit(fastmath=False)(add_assoc)(0, np.inf)) # nan\n",
    "print(njit(fastmath=True) (add_assoc)(0, np.inf)) # 0.0\n",
    "print(njit(fastmath={'reassoc', 'nsz'})(add_assoc)(0, np.inf)) # 0.0\n",
    "print(njit(fastmath={'reassoc'})       (add_assoc)(0, np.inf)) # nan\n",
    "print(njit(fastmath={'nsz'})           (add_assoc)(0, np.inf)) # nan"
   ]
  },
  {
   "cell_type": "markdown",
   "id": "f2d7480b",
   "metadata": {},
   "source": [
    "# vectorize\n",
    "декоратор **@vectorize**, позволяет описать функцию, работающую с одним элементом, а после применить её к массиву.\n",
    "Для примера напишем функцию, находящие кол-во чисел меньших n, взаимопростых с n."
   ]
  },
  {
   "cell_type": "code",
   "execution_count": 36,
   "id": "e5f6433a",
   "metadata": {},
   "outputs": [],
   "source": [
    "def gcd(x, y):\n",
    "    while (y):\n",
    "        x, y = y, x % y\n",
    "    return x\n",
    "\n",
    "def phi(n):\n",
    "    cnt = 0\n",
    "    for i in range(1, n):\n",
    "        if gcd(i, n) == 1:\n",
    "            cnt += 1\n",
    "    return cnt"
   ]
  },
  {
   "cell_type": "code",
   "execution_count": 37,
   "id": "e2152980",
   "metadata": {},
   "outputs": [],
   "source": [
    "a = np.random.randint(low=1, high=10**4, size=1000)"
   ]
  },
  {
   "cell_type": "code",
   "execution_count": 43,
   "id": "1bb1d894",
   "metadata": {},
   "outputs": [
    {
     "name": "stdout",
     "output_type": "stream",
     "text": [
      "120 ms ± 437 µs per loop (mean ± std. dev. of 7 runs, 10 loops each)\n"
     ]
    }
   ],
   "source": [
    "%%timeit\n",
    "\n",
    "res = [phi(n) for n in a]"
   ]
  },
  {
   "cell_type": "code",
   "execution_count": 39,
   "id": "63b320b1",
   "metadata": {},
   "outputs": [],
   "source": [
    "from numba import vectorize"
   ]
  },
  {
   "cell_type": "code",
   "execution_count": 40,
   "id": "94314801",
   "metadata": {},
   "outputs": [],
   "source": [
    "@njit\n",
    "def numba_gcd(x, y):\n",
    "    while (y):\n",
    "        x, y = y, x % y\n",
    "    return x\n",
    "\n",
    "@vectorize('int64(int64)', nopython=True, target='parallel')\n",
    "def phi(n):\n",
    "    cnt = 0\n",
    "    for i in range(1, n):\n",
    "        if numba_gcd(i, n) == 1:\n",
    "            cnt += 1\n",
    "    return cnt"
   ]
  },
  {
   "cell_type": "markdown",
   "id": "0fc96a4d",
   "metadata": {},
   "source": [
    "target='parallel' означает, что функция будет испольняться на многоядерном процессоре. Другие возможные опции: 'cpu' и 'cuda'"
   ]
  },
  {
   "cell_type": "code",
   "execution_count": 42,
   "id": "56bd8374",
   "metadata": {},
   "outputs": [
    {
     "name": "stdout",
     "output_type": "stream",
     "text": [
      "9.58 ms ± 46.8 µs per loop (mean ± std. dev. of 7 runs, 100 loops each)\n"
     ]
    }
   ],
   "source": [
    "%%timeit\n",
    "\n",
    "res = phi(a)"
   ]
  },
  {
   "cell_type": "markdown",
   "id": "b5695bdc",
   "metadata": {},
   "source": [
    "# jitclass\n",
    "При необходимости, в numba можно реализовать свой класс, с которым можно будет работать в nopython режиме\n"
   ]
  },
  {
   "cell_type": "code",
   "execution_count": 52,
   "id": "061fc28c",
   "metadata": {},
   "outputs": [],
   "source": [
    "import numba\n",
    "from numba.experimental import jitclass"
   ]
  },
  {
   "cell_type": "code",
   "execution_count": 53,
   "id": "74d9e18b",
   "metadata": {},
   "outputs": [],
   "source": [
    "@jitclass\n",
    "class Bag(object):\n",
    "    value: numba.int32\n",
    "    array: numba.float32[:]\n",
    "    \n",
    "    def __init__(self, value):\n",
    "        self.value = value\n",
    "        self.array = np.zeros(value, dtype=np.float32)\n",
    "\n",
    "    @property\n",
    "    def size(self):\n",
    "        return self.array.size\n",
    "\n",
    "    def increment(self, val):\n",
    "        for i in range(self.size):\n",
    "            self.array[i] += val\n",
    "        return self.array\n",
    "\n",
    "    @staticmethod\n",
    "    def add(x, y):\n",
    "        return x + y"
   ]
  },
  {
   "cell_type": "code",
   "execution_count": 54,
   "id": "16a46389",
   "metadata": {},
   "outputs": [],
   "source": [
    "A = Bag(5)"
   ]
  },
  {
   "cell_type": "markdown",
   "id": "65390afe",
   "metadata": {},
   "source": [
    "или другой способ:"
   ]
  },
  {
   "cell_type": "code",
   "execution_count": 55,
   "id": "e336f10d",
   "metadata": {},
   "outputs": [],
   "source": [
    "spec = [\n",
    "    ('value', numba.int32),\n",
    "    ('array', numba.float32[:]),\n",
    "]\n",
    "@jitclass(spec)\n",
    "class Bag(object):\n",
    "    \n",
    "    def __init__(self, value):\n",
    "        self.value = value\n",
    "        self.array = np.zeros(value, dtype=np.float32)\n",
    "\n",
    "    @property\n",
    "    def size(self):\n",
    "        return self.array.size\n",
    "\n",
    "    def increment(self, val):\n",
    "        for i in range(self.size):\n",
    "            self.array[i] += val\n",
    "        return self.array\n",
    "\n",
    "    @staticmethod\n",
    "    def add(x, y):\n",
    "        return x + y"
   ]
  },
  {
   "cell_type": "code",
   "execution_count": 56,
   "id": "141f9823",
   "metadata": {},
   "outputs": [],
   "source": [
    "A = Bag(5)"
   ]
  },
  {
   "cell_type": "markdown",
   "id": "21cae84d",
   "metadata": {},
   "source": [
    "# cfunc\n",
    "Некоторый библиотеки (например, scipy) могут работать с функциями, скомпилированнами на С, для увелечения их производительности. Такую функцию можно сделать с помощью numba, используя декоратор **@cfunc** с аргументами - сигнатурой функции."
   ]
  },
  {
   "cell_type": "code",
   "execution_count": 57,
   "id": "d37a12bd",
   "metadata": {},
   "outputs": [],
   "source": [
    "from scipy.integrate import quad"
   ]
  },
  {
   "cell_type": "code",
   "execution_count": 58,
   "id": "ab790cc3",
   "metadata": {},
   "outputs": [],
   "source": [
    "def intergrand(t):\n",
    "    return np.exp(-t) / t**2"
   ]
  },
  {
   "cell_type": "code",
   "execution_count": 59,
   "id": "ed551158",
   "metadata": {},
   "outputs": [
    {
     "name": "stdout",
     "output_type": "stream",
     "text": [
      "51 µs ± 455 ns per loop (mean ± std. dev. of 7 runs, 10,000 loops each)\n"
     ]
    }
   ],
   "source": [
    "%%timeit\n",
    "quad(intergrand, 1, np.inf)"
   ]
  },
  {
   "cell_type": "code",
   "execution_count": 61,
   "id": "0f027562",
   "metadata": {},
   "outputs": [],
   "source": [
    "from numba import cfunc"
   ]
  },
  {
   "cell_type": "code",
   "execution_count": 62,
   "id": "760f2d25",
   "metadata": {},
   "outputs": [],
   "source": [
    "@cfunc('float64(float64)')\n",
    "def intergrand(t):\n",
    "    return np.exp(-t) / t**2"
   ]
  },
  {
   "cell_type": "markdown",
   "id": "6782f9b0",
   "metadata": {},
   "source": [
    "При использовании декоратора **@cfunc** создается callback-функция **f.ctypes**, а также **address**, позволяющая вызывать функцию в внешних C/C++ библиотеках"
   ]
  },
  {
   "cell_type": "code",
   "execution_count": 63,
   "id": "64d71965",
   "metadata": {},
   "outputs": [
    {
     "name": "stdout",
     "output_type": "stream",
     "text": [
      "57.9 µs ± 287 ns per loop (mean ± std. dev. of 7 runs, 10,000 loops each)\n"
     ]
    }
   ],
   "source": [
    "%%timeit\n",
    "\n",
    "quad(intergrand, 1, np.inf)"
   ]
  },
  {
   "cell_type": "code",
   "execution_count": 64,
   "id": "4361df7f",
   "metadata": {},
   "outputs": [
    {
     "name": "stdout",
     "output_type": "stream",
     "text": [
      "4.08 µs ± 85.8 ns per loop (mean ± std. dev. of 7 runs, 100,000 loops each)\n"
     ]
    }
   ],
   "source": [
    "%%timeit\n",
    "\n",
    "quad(intergrand.ctypes, 1, np.inf)"
   ]
  },
  {
   "cell_type": "code",
   "execution_count": 69,
   "id": "bd46b2d8",
   "metadata": {},
   "outputs": [
    {
     "data": {
      "text/plain": [
       "140213363339376"
      ]
     },
     "execution_count": 69,
     "metadata": {},
     "output_type": "execute_result"
    }
   ],
   "source": [
    "f = intergrand.address\n",
    "f # &f при использовании в коде на C"
   ]
  },
  {
   "cell_type": "markdown",
   "id": "74e30365",
   "metadata": {},
   "source": [
    "# stencil\n",
    "**@stencil** - декоратор, схожий с vectorize, позволяющий определять функцию относительно её соседей в массиве (например свертка или численная производная)"
   ]
  },
  {
   "cell_type": "code",
   "execution_count": 74,
   "id": "c46cff7c",
   "metadata": {},
   "outputs": [
    {
     "data": {
      "text/plain": [
       "array([0.00000000e+00, 9.99999998e-05, 1.99999999e-04, ...,\n",
       "       8.41308856e-01, 8.41362908e-01, 8.41416950e-01])"
      ]
     },
     "execution_count": 74,
     "metadata": {},
     "output_type": "execute_result"
    }
   ],
   "source": [
    "x = np.linspace(0, 1, num=10**4, endpoint=False)\n",
    "sinx = np.sin(x)\n",
    "sinx"
   ]
  },
  {
   "cell_type": "code",
   "execution_count": 78,
   "id": "3e559eed",
   "metadata": {},
   "outputs": [],
   "source": [
    "from numba import stencil"
   ]
  },
  {
   "cell_type": "code",
   "execution_count": 77,
   "id": "fed26de1",
   "metadata": {
    "code_folding": []
   },
   "outputs": [],
   "source": [
    "@stencil\n",
    "def first_derivative(a):\n",
    "    return (a[1] - a[-1]) / (2e-4)"
   ]
  },
  {
   "cell_type": "code",
   "execution_count": 76,
   "id": "ca1cf966",
   "metadata": {},
   "outputs": [
    {
     "data": {
      "text/plain": [
       "array([0.        , 0.99999999, 0.99999998, ..., 0.54055472, 0.54047059,\n",
       "       0.        ])"
      ]
     },
     "execution_count": 76,
     "metadata": {},
     "output_type": "execute_result"
    }
   ],
   "source": [
    "first_derivative(sinx)"
   ]
  }
 ],
 "metadata": {
  "kernelspec": {
   "display_name": "Python 3 (ipykernel)",
   "language": "python",
   "name": "python3"
  },
  "language_info": {
   "codemirror_mode": {
    "name": "ipython",
    "version": 3
   },
   "file_extension": ".py",
   "mimetype": "text/x-python",
   "name": "python",
   "nbconvert_exporter": "python",
   "pygments_lexer": "ipython3",
   "version": "3.11.3"
  },
  "toc": {
   "base_numbering": 1,
   "nav_menu": {},
   "number_sections": true,
   "sideBar": true,
   "skip_h1_title": false,
   "title_cell": "Table of Contents",
   "title_sidebar": "Contents",
   "toc_cell": false,
   "toc_position": {},
   "toc_section_display": true,
   "toc_window_display": false
  }
 },
 "nbformat": 4,
 "nbformat_minor": 5
}
